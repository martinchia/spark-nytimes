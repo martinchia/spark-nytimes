{
 "cells": [
  {
   "cell_type": "code",
   "execution_count": 1,
   "metadata": {},
   "outputs": [],
   "source": [
    "import json, requests\n",
    "from bs4 import BeautifulSoup\n",
    "import sys\n",
    "import time\n",
    "import urllib.parse as urlparse\n",
    "from urllib.parse import urlencode"
   ]
  },
  {
   "cell_type": "code",
   "execution_count": 2,
   "metadata": {},
   "outputs": [],
   "source": [
    "u = 'http://api.nytimes.com/svc/search/v2/articlesearch.json'\n",
    "parameter = {\n",
    "    'api-key': \"46c1eeb270c94547869a041d823b86ac\",\n",
    "    'fq':\"section_name:(\\\"sports\\\")\"\n",
    "}"
   ]
  },
  {
   "cell_type": "code",
   "execution_count": 3,
   "metadata": {},
   "outputs": [],
   "source": [
    "def getUrl(u,parameter):\n",
    "    url_parts = list(urlparse.urlparse(u))\n",
    "    query = dict(urlparse.parse_qsl(url_parts[4]))\n",
    "    query.update(parameter)\n",
    "    url_parts[4] = urlencode(query)\n",
    "    return urlparse.urlunparse(url_parts)"
   ]
  },
  {
   "cell_type": "code",
   "execution_count": 4,
   "metadata": {},
   "outputs": [],
   "source": [
    "def tryGetData(url):\n",
    "    resp = requests.get(url)\n",
    "    data = json.loads(resp.text)\n",
    "    try:\n",
    "        hits = data['response']['meta']['hits']\n",
    "    except KeyError:\n",
    "        print(data)\n",
    "        time.sleep(10)\n",
    "        data,hits = tryGetData(url)\n",
    "    return data,hits"
   ]
  },
  {
   "cell_type": "code",
   "execution_count": 7,
   "metadata": {},
   "outputs": [],
   "source": [
    "def getHtmltxt(docid,jsdata):\n",
    "    webpage = requests.get(jsdata[\"response\"][\"docs\"][docid][\"web_url\"])\n",
    "    soup = BeautifulSoup(webpage.text, 'html.parser')\n",
    "    p = soup.find_all('p')\n",
    "    soup = BeautifulSoup(' '.join(str(i) for i in p), 'html.parser')\n",
    "    return soup.getText()"
   ]
  },
  {
   "cell_type": "markdown",
   "metadata": {},
   "source": [
    "# change parameters to acheive data from different categories"
   ]
  },
  {
   "cell_type": "code",
   "execution_count": 41,
   "metadata": {},
   "outputs": [
    {
     "name": "stdout",
     "output_type": "stream",
     "text": [
      "got 19086 results from this field\n",
      "http://api.nytimes.com/svc/search/v2/articlesearch.json?api-key=46c1eeb270c94547869a041d823b86ac&fq=news_desk%3A%28%22Science%22%29&page=200\n"
     ]
    }
   ],
   "source": [
    "url = getUrl(u,parameter)\n",
    "data,hits = tryGetData(url)\n",
    "docid = 0\n",
    "print(f'got {hits} results from this field')\n",
    "print(url)\n",
    "time.sleep(1)"
   ]
  },
  {
   "cell_type": "code",
   "execution_count": 40,
   "metadata": {},
   "outputs": [],
   "source": [
    "parameter[\"fq\"] = \"news_desk:(\\\"Science\\\")\""
   ]
  },
  {
   "cell_type": "code",
   "execution_count": 42,
   "metadata": {},
   "outputs": [
    {
     "name": "stdout",
     "output_type": "stream",
     "text": [
      "over\n"
     ]
    }
   ],
   "source": [
    "page = 0    \n",
    "while(hits>=1):\n",
    "    try:\n",
    "        ids = len(data[\"response\"][\"docs\"])\n",
    "    except KeyError:\n",
    "        print(data)\n",
    "        time.sleep(10)\n",
    "        continue\n",
    "    for docid in range(ids):\n",
    "        f= open(f\"Science/{hits}.txt\",\"a\",encoding='utf-8')\n",
    "        try:\n",
    "            text = getHtmltxt(docid,data)\n",
    "        except:\n",
    "            hits -=1\n",
    "            continue\n",
    "        if(len(text)>50):\n",
    "            f.write(text)\n",
    "        hits -= 1\n",
    "        f.close()\n",
    "        if(hits<1):\n",
    "            break\n",
    "        \n",
    "    page += 1\n",
    "    if(page>200):\n",
    "        break\n",
    "    parameter['page'] = page\n",
    "    url = getUrl(u,parameter)\n",
    "    resp = requests.get(url)\n",
    "    if(hits<1):\n",
    "        break\n",
    "    data = json.loads(resp.text)\n",
    "    time.sleep(1)\n",
    "page = 0  \n",
    "print(\"over\")"
   ]
  }
 ],
 "metadata": {
  "kernelspec": {
   "display_name": "Python 3",
   "language": "python",
   "name": "python3"
  },
  "language_info": {
   "codemirror_mode": {
    "name": "ipython",
    "version": 3
   },
   "file_extension": ".py",
   "mimetype": "text/x-python",
   "name": "python",
   "nbconvert_exporter": "python",
   "pygments_lexer": "ipython3",
   "version": "3.6.3"
  }
 },
 "nbformat": 4,
 "nbformat_minor": 2
}
